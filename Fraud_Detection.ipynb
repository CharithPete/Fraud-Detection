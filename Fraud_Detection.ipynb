{
  "nbformat": 4,
  "nbformat_minor": 0,
  "metadata": {
    "accelerator": "TPU",
    "colab": {
      "name": "Fraud Detection.ipynb",
      "provenance": [],
      "collapsed_sections": []
    },
    "kernelspec": {
      "display_name": "Python 3",
      "name": "python3"
    }
  },
  "cells": [
    {
      "cell_type": "markdown",
      "metadata": {
        "id": "SdHbbOspteV1"
      },
      "source": [
        "# Importing Libraries/Connecting to GDrive"
      ]
    },
    {
      "cell_type": "code",
      "metadata": {
        "colab": {
          "base_uri": "https://localhost:8080/"
        },
        "id": "w1hDk9hDvOH7",
        "outputId": "df82b7c3-f773-47c5-c181-1fb470342a6a"
      },
      "source": [
        "import pandas as pd\n",
        "from sklearn.preprocessing import label_binarize\n",
        "import numpy as np\n",
        "from sklearn.model_selection import train_test_split\n",
        "from sklearn.ensemble import RandomForestClassifier\n",
        "from sklearn.tree import DecisionTreeClassifier\n",
        "from sklearn.model_selection import GridSearchCV\n",
        "from sklearn.model_selection import RandomizedSearchCV\n",
        "from sklearn.model_selection import cross_val_score\n",
        "from sklearn.metrics import classification_report, confusion_matrix, accuracy_score\n",
        "from sklearn.ensemble import GradientBoostingClassifier\n",
        "from sklearn.model_selection import train_test_split\n",
        "\n",
        "import warnings\n",
        "warnings.filterwarnings(\"ignore\")\n",
        "#Please ignore the warnings with version change\n",
        "\n",
        "from google.colab import drive\n",
        "drive.mount('/gdrive')\n",
        "#Change current working directory to gdrive\n",
        "%cd /gdrive\n",
        "\n"
      ],
      "execution_count": 3,
      "outputs": [
        {
          "output_type": "stream",
          "name": "stdout",
          "text": [
            "Mounted at /gdrive\n",
            "/gdrive\n"
          ]
        }
      ]
    },
    {
      "cell_type": "markdown",
      "metadata": {
        "id": "Y_15LhOHs00E"
      },
      "source": [
        "# Exploratory Data Analysis"
      ]
    },
    {
      "cell_type": "code",
      "metadata": {
        "colab": {
          "base_uri": "https://localhost:8080/"
        },
        "id": "BMwGQK7KAd7T",
        "outputId": "1f5aafbc-0369-4c46-9c2d-281b0eb03eef"
      },
      "source": [
        "trainfile = r'/gdrive/My Drive/CIS 508/Assignment 2/Insurance Fraud - TRAIN.csv'\n",
        "trainData = pd.read_csv(trainfile) #creates a dataframe\n",
        "testfile = r'/gdrive/My Drive/CIS 508/Assignment 2/Insurance Fraud - TEST.csv'\n",
        "testData = pd.read_csv(testfile)  #creates a dataframe\n",
        "\n",
        "\n",
        "print(trainData.shape)\n",
        "print(testData.shape)\n",
        "\n"
      ],
      "execution_count": 4,
      "outputs": [
        {
          "output_type": "stream",
          "name": "stdout",
          "text": [
            "(2999, 32)\n",
            "(12918, 32)\n"
          ]
        }
      ]
    },
    {
      "cell_type": "code",
      "metadata": {
        "colab": {
          "base_uri": "https://localhost:8080/",
          "height": 313
        },
        "id": "ruefhfHZYLUK",
        "outputId": "dec4f93e-9eff-422c-99ab-d251adcf5344"
      },
      "source": [
        "trainData.head(5)"
      ],
      "execution_count": 5,
      "outputs": [
        {
          "output_type": "execute_result",
          "data": {
            "text/html": [
              "<div>\n",
              "<style scoped>\n",
              "    .dataframe tbody tr th:only-of-type {\n",
              "        vertical-align: middle;\n",
              "    }\n",
              "\n",
              "    .dataframe tbody tr th {\n",
              "        vertical-align: top;\n",
              "    }\n",
              "\n",
              "    .dataframe thead th {\n",
              "        text-align: right;\n",
              "    }\n",
              "</style>\n",
              "<table border=\"1\" class=\"dataframe\">\n",
              "  <thead>\n",
              "    <tr style=\"text-align: right;\">\n",
              "      <th></th>\n",
              "      <th>MONTH</th>\n",
              "      <th>WEEKOFMONTH</th>\n",
              "      <th>DAYOFWEEK</th>\n",
              "      <th>MAKE</th>\n",
              "      <th>ACCIDENTAREA</th>\n",
              "      <th>DAYOFWEEKCLAIMED</th>\n",
              "      <th>MONTHCLAIMED</th>\n",
              "      <th>WEEKOFMONTHCLAIMED</th>\n",
              "      <th>SEX</th>\n",
              "      <th>MARITALSTATUS</th>\n",
              "      <th>AGE</th>\n",
              "      <th>FAULT</th>\n",
              "      <th>POLICYTYPE</th>\n",
              "      <th>VEHICLECATEGORY</th>\n",
              "      <th>VEHICLEPRICE</th>\n",
              "      <th>REPNUMBER</th>\n",
              "      <th>DEDUCTIBLE</th>\n",
              "      <th>DRIVERRATING</th>\n",
              "      <th>DAYS_POLICY_ACCIDENT</th>\n",
              "      <th>DAYS_POLICY_CLAIM</th>\n",
              "      <th>PASTNUMBEROFCLAIMS</th>\n",
              "      <th>AGEOFVEHICLE</th>\n",
              "      <th>AGEOFPOLICYHOLDER</th>\n",
              "      <th>POLICEREPORTFILED</th>\n",
              "      <th>WITNESSPRESENT</th>\n",
              "      <th>AGENTTYPE</th>\n",
              "      <th>NUMBEROFSUPPLIMENTS</th>\n",
              "      <th>ADDRESSCHANGE_CLAIM</th>\n",
              "      <th>NUMBEROFCARS</th>\n",
              "      <th>YEAR</th>\n",
              "      <th>BASEPOLICY</th>\n",
              "      <th>FRAUDFOUND</th>\n",
              "    </tr>\n",
              "  </thead>\n",
              "  <tbody>\n",
              "    <tr>\n",
              "      <th>0</th>\n",
              "      <td>Jul</td>\n",
              "      <td>3</td>\n",
              "      <td>Sunday</td>\n",
              "      <td>Honda</td>\n",
              "      <td>Rural</td>\n",
              "      <td>Wednesday</td>\n",
              "      <td>Jan</td>\n",
              "      <td>4</td>\n",
              "      <td>Male</td>\n",
              "      <td>Married</td>\n",
              "      <td>21</td>\n",
              "      <td>Policy_Holder</td>\n",
              "      <td>Sport-Collision</td>\n",
              "      <td>Sport</td>\n",
              "      <td>more_than_69000</td>\n",
              "      <td>4</td>\n",
              "      <td>400</td>\n",
              "      <td>4</td>\n",
              "      <td>more_than_30</td>\n",
              "      <td>more_than_30</td>\n",
              "      <td>none</td>\n",
              "      <td>4_years</td>\n",
              "      <td>26_to_30</td>\n",
              "      <td>No</td>\n",
              "      <td>No</td>\n",
              "      <td>External</td>\n",
              "      <td>3_to_5</td>\n",
              "      <td>no_change</td>\n",
              "      <td>1-vehicle</td>\n",
              "      <td>1994</td>\n",
              "      <td>Collision</td>\n",
              "      <td>Yes</td>\n",
              "    </tr>\n",
              "    <tr>\n",
              "      <th>1</th>\n",
              "      <td>Nov</td>\n",
              "      <td>5</td>\n",
              "      <td>Monday</td>\n",
              "      <td>Mazda</td>\n",
              "      <td>Urban</td>\n",
              "      <td>Wednesday</td>\n",
              "      <td>Dec</td>\n",
              "      <td>1</td>\n",
              "      <td>Male</td>\n",
              "      <td>Single</td>\n",
              "      <td>68</td>\n",
              "      <td>Policy_Holder</td>\n",
              "      <td>Sedan-All_Perils</td>\n",
              "      <td>Sedan</td>\n",
              "      <td>20000_to_29000</td>\n",
              "      <td>9</td>\n",
              "      <td>400</td>\n",
              "      <td>3</td>\n",
              "      <td>more_than_30</td>\n",
              "      <td>more_than_30</td>\n",
              "      <td>2_to_4</td>\n",
              "      <td>5_years</td>\n",
              "      <td>over_65</td>\n",
              "      <td>No</td>\n",
              "      <td>No</td>\n",
              "      <td>External</td>\n",
              "      <td>none</td>\n",
              "      <td>no_change</td>\n",
              "      <td>1-vehicle</td>\n",
              "      <td>1994</td>\n",
              "      <td>All_Perils</td>\n",
              "      <td>Yes</td>\n",
              "    </tr>\n",
              "    <tr>\n",
              "      <th>2</th>\n",
              "      <td>Jan</td>\n",
              "      <td>1</td>\n",
              "      <td>Monday</td>\n",
              "      <td>Pontiac</td>\n",
              "      <td>Urban</td>\n",
              "      <td>Wednesday</td>\n",
              "      <td>Jan</td>\n",
              "      <td>1</td>\n",
              "      <td>Male</td>\n",
              "      <td>Married</td>\n",
              "      <td>50</td>\n",
              "      <td>Policy_Holder</td>\n",
              "      <td>Sedan-All_Perils</td>\n",
              "      <td>Sedan</td>\n",
              "      <td>20000_to_29000</td>\n",
              "      <td>8</td>\n",
              "      <td>400</td>\n",
              "      <td>2</td>\n",
              "      <td>more_than_30</td>\n",
              "      <td>more_than_30</td>\n",
              "      <td>none</td>\n",
              "      <td>7_years</td>\n",
              "      <td>41_to_50</td>\n",
              "      <td>No</td>\n",
              "      <td>No</td>\n",
              "      <td>External</td>\n",
              "      <td>none</td>\n",
              "      <td>under_6_months</td>\n",
              "      <td>1-vehicle</td>\n",
              "      <td>1994</td>\n",
              "      <td>All_Perils</td>\n",
              "      <td>Yes</td>\n",
              "    </tr>\n",
              "    <tr>\n",
              "      <th>3</th>\n",
              "      <td>Dec</td>\n",
              "      <td>1</td>\n",
              "      <td>Monday</td>\n",
              "      <td>Toyota</td>\n",
              "      <td>Rural</td>\n",
              "      <td>Tuesday</td>\n",
              "      <td>May</td>\n",
              "      <td>3</td>\n",
              "      <td>Male</td>\n",
              "      <td>Married</td>\n",
              "      <td>39</td>\n",
              "      <td>Policy_Holder</td>\n",
              "      <td>Sedan-All_Perils</td>\n",
              "      <td>Sedan</td>\n",
              "      <td>30000_to_39000</td>\n",
              "      <td>1</td>\n",
              "      <td>400</td>\n",
              "      <td>3</td>\n",
              "      <td>more_than_30</td>\n",
              "      <td>more_than_30</td>\n",
              "      <td>none</td>\n",
              "      <td>more_than_7</td>\n",
              "      <td>36_to_40</td>\n",
              "      <td>No</td>\n",
              "      <td>No</td>\n",
              "      <td>External</td>\n",
              "      <td>more_than_5</td>\n",
              "      <td>under_6_months</td>\n",
              "      <td>2-vehicles</td>\n",
              "      <td>1994</td>\n",
              "      <td>All_Perils</td>\n",
              "      <td>Yes</td>\n",
              "    </tr>\n",
              "    <tr>\n",
              "      <th>4</th>\n",
              "      <td>Dec</td>\n",
              "      <td>5</td>\n",
              "      <td>Wednesday</td>\n",
              "      <td>Pontiac</td>\n",
              "      <td>Urban</td>\n",
              "      <td>Wednesday</td>\n",
              "      <td>Jan</td>\n",
              "      <td>1</td>\n",
              "      <td>Male</td>\n",
              "      <td>Single</td>\n",
              "      <td>43</td>\n",
              "      <td>Policy_Holder</td>\n",
              "      <td>Sedan-Collision</td>\n",
              "      <td>Sedan</td>\n",
              "      <td>40000_to_59000</td>\n",
              "      <td>1</td>\n",
              "      <td>400</td>\n",
              "      <td>4</td>\n",
              "      <td>more_than_30</td>\n",
              "      <td>more_than_30</td>\n",
              "      <td>2_to_4</td>\n",
              "      <td>7_years</td>\n",
              "      <td>36_to_40</td>\n",
              "      <td>No</td>\n",
              "      <td>No</td>\n",
              "      <td>External</td>\n",
              "      <td>more_than_5</td>\n",
              "      <td>no_change</td>\n",
              "      <td>1-vehicle</td>\n",
              "      <td>1994</td>\n",
              "      <td>Collision</td>\n",
              "      <td>Yes</td>\n",
              "    </tr>\n",
              "  </tbody>\n",
              "</table>\n",
              "</div>"
            ],
            "text/plain": [
              "  MONTH  WEEKOFMONTH  DAYOFWEEK  ...  YEAR  BASEPOLICY FRAUDFOUND\n",
              "0   Jul            3     Sunday  ...  1994   Collision        Yes\n",
              "1   Nov            5     Monday  ...  1994  All_Perils        Yes\n",
              "2   Jan            1     Monday  ...  1994  All_Perils        Yes\n",
              "3   Dec            1     Monday  ...  1994  All_Perils        Yes\n",
              "4   Dec            5  Wednesday  ...  1994   Collision        Yes\n",
              "\n",
              "[5 rows x 32 columns]"
            ]
          },
          "metadata": {},
          "execution_count": 5
        }
      ]
    },
    {
      "cell_type": "code",
      "metadata": {
        "colab": {
          "base_uri": "https://localhost:8080/",
          "height": 1000
        },
        "id": "xptQc5DUY7cO",
        "outputId": "9164afda-ae66-478a-f7f5-2a8355e065e7"
      },
      "source": [
        "trainData.info()\n",
        "trainData.describe()"
      ],
      "execution_count": 6,
      "outputs": [
        {
          "output_type": "stream",
          "name": "stdout",
          "text": [
            "<class 'pandas.core.frame.DataFrame'>\n",
            "RangeIndex: 2999 entries, 0 to 2998\n",
            "Data columns (total 32 columns):\n",
            " #   Column                Non-Null Count  Dtype \n",
            "---  ------                --------------  ----- \n",
            " 0   MONTH                 2999 non-null   object\n",
            " 1   WEEKOFMONTH           2999 non-null   int64 \n",
            " 2   DAYOFWEEK             2999 non-null   object\n",
            " 3   MAKE                  2999 non-null   object\n",
            " 4   ACCIDENTAREA          2999 non-null   object\n",
            " 5   DAYOFWEEKCLAIMED      2999 non-null   object\n",
            " 6   MONTHCLAIMED          2999 non-null   object\n",
            " 7   WEEKOFMONTHCLAIMED    2999 non-null   int64 \n",
            " 8   SEX                   2999 non-null   object\n",
            " 9   MARITALSTATUS         2999 non-null   object\n",
            " 10  AGE                   2999 non-null   int64 \n",
            " 11  FAULT                 2999 non-null   object\n",
            " 12  POLICYTYPE            2999 non-null   object\n",
            " 13  VEHICLECATEGORY       2999 non-null   object\n",
            " 14  VEHICLEPRICE          2999 non-null   object\n",
            " 15  REPNUMBER             2999 non-null   int64 \n",
            " 16  DEDUCTIBLE            2999 non-null   int64 \n",
            " 17  DRIVERRATING          2999 non-null   int64 \n",
            " 18  DAYS_POLICY_ACCIDENT  2999 non-null   object\n",
            " 19  DAYS_POLICY_CLAIM     2999 non-null   object\n",
            " 20  PASTNUMBEROFCLAIMS    2999 non-null   object\n",
            " 21  AGEOFVEHICLE          2999 non-null   object\n",
            " 22  AGEOFPOLICYHOLDER     2999 non-null   object\n",
            " 23  POLICEREPORTFILED     2999 non-null   object\n",
            " 24  WITNESSPRESENT        2999 non-null   object\n",
            " 25  AGENTTYPE             2999 non-null   object\n",
            " 26  NUMBEROFSUPPLIMENTS   2999 non-null   object\n",
            " 27  ADDRESSCHANGE_CLAIM   2999 non-null   object\n",
            " 28  NUMBEROFCARS          2999 non-null   object\n",
            " 29  YEAR                  2999 non-null   int64 \n",
            " 30  BASEPOLICY            2999 non-null   object\n",
            " 31  FRAUDFOUND            2999 non-null   object\n",
            "dtypes: int64(7), object(25)\n",
            "memory usage: 749.9+ KB\n"
          ]
        },
        {
          "output_type": "execute_result",
          "data": {
            "text/html": [
              "<div>\n",
              "<style scoped>\n",
              "    .dataframe tbody tr th:only-of-type {\n",
              "        vertical-align: middle;\n",
              "    }\n",
              "\n",
              "    .dataframe tbody tr th {\n",
              "        vertical-align: top;\n",
              "    }\n",
              "\n",
              "    .dataframe thead th {\n",
              "        text-align: right;\n",
              "    }\n",
              "</style>\n",
              "<table border=\"1\" class=\"dataframe\">\n",
              "  <thead>\n",
              "    <tr style=\"text-align: right;\">\n",
              "      <th></th>\n",
              "      <th>WEEKOFMONTH</th>\n",
              "      <th>WEEKOFMONTHCLAIMED</th>\n",
              "      <th>AGE</th>\n",
              "      <th>REPNUMBER</th>\n",
              "      <th>DEDUCTIBLE</th>\n",
              "      <th>DRIVERRATING</th>\n",
              "      <th>YEAR</th>\n",
              "    </tr>\n",
              "  </thead>\n",
              "  <tbody>\n",
              "    <tr>\n",
              "      <th>count</th>\n",
              "      <td>2999.000000</td>\n",
              "      <td>2999.000000</td>\n",
              "      <td>2999.000000</td>\n",
              "      <td>2999.000000</td>\n",
              "      <td>2999.000000</td>\n",
              "      <td>2999.000000</td>\n",
              "      <td>2999.000000</td>\n",
              "    </tr>\n",
              "    <tr>\n",
              "      <th>mean</th>\n",
              "      <td>2.781260</td>\n",
              "      <td>2.671224</td>\n",
              "      <td>40.055352</td>\n",
              "      <td>8.511837</td>\n",
              "      <td>407.302434</td>\n",
              "      <td>2.496832</td>\n",
              "      <td>1995.114038</td>\n",
              "    </tr>\n",
              "    <tr>\n",
              "      <th>std</th>\n",
              "      <td>1.286055</td>\n",
              "      <td>1.261614</td>\n",
              "      <td>13.497026</td>\n",
              "      <td>4.601437</td>\n",
              "      <td>41.847258</td>\n",
              "      <td>1.118365</td>\n",
              "      <td>0.606007</td>\n",
              "    </tr>\n",
              "    <tr>\n",
              "      <th>min</th>\n",
              "      <td>1.000000</td>\n",
              "      <td>1.000000</td>\n",
              "      <td>0.000000</td>\n",
              "      <td>1.000000</td>\n",
              "      <td>300.000000</td>\n",
              "      <td>1.000000</td>\n",
              "      <td>1994.000000</td>\n",
              "    </tr>\n",
              "    <tr>\n",
              "      <th>25%</th>\n",
              "      <td>2.000000</td>\n",
              "      <td>2.000000</td>\n",
              "      <td>31.000000</td>\n",
              "      <td>4.000000</td>\n",
              "      <td>400.000000</td>\n",
              "      <td>1.000000</td>\n",
              "      <td>1995.000000</td>\n",
              "    </tr>\n",
              "    <tr>\n",
              "      <th>50%</th>\n",
              "      <td>3.000000</td>\n",
              "      <td>3.000000</td>\n",
              "      <td>38.000000</td>\n",
              "      <td>9.000000</td>\n",
              "      <td>400.000000</td>\n",
              "      <td>2.000000</td>\n",
              "      <td>1995.000000</td>\n",
              "    </tr>\n",
              "    <tr>\n",
              "      <th>75%</th>\n",
              "      <td>4.000000</td>\n",
              "      <td>4.000000</td>\n",
              "      <td>49.000000</td>\n",
              "      <td>12.000000</td>\n",
              "      <td>400.000000</td>\n",
              "      <td>3.000000</td>\n",
              "      <td>1995.000000</td>\n",
              "    </tr>\n",
              "    <tr>\n",
              "      <th>max</th>\n",
              "      <td>5.000000</td>\n",
              "      <td>5.000000</td>\n",
              "      <td>80.000000</td>\n",
              "      <td>16.000000</td>\n",
              "      <td>700.000000</td>\n",
              "      <td>4.000000</td>\n",
              "      <td>1996.000000</td>\n",
              "    </tr>\n",
              "  </tbody>\n",
              "</table>\n",
              "</div>"
            ],
            "text/plain": [
              "       WEEKOFMONTH  WEEKOFMONTHCLAIMED  ...  DRIVERRATING         YEAR\n",
              "count  2999.000000         2999.000000  ...   2999.000000  2999.000000\n",
              "mean      2.781260            2.671224  ...      2.496832  1995.114038\n",
              "std       1.286055            1.261614  ...      1.118365     0.606007\n",
              "min       1.000000            1.000000  ...      1.000000  1994.000000\n",
              "25%       2.000000            2.000000  ...      1.000000  1995.000000\n",
              "50%       3.000000            3.000000  ...      2.000000  1995.000000\n",
              "75%       4.000000            4.000000  ...      3.000000  1995.000000\n",
              "max       5.000000            5.000000  ...      4.000000  1996.000000\n",
              "\n",
              "[8 rows x 7 columns]"
            ]
          },
          "metadata": {},
          "execution_count": 6
        }
      ]
    },
    {
      "cell_type": "code",
      "metadata": {
        "colab": {
          "base_uri": "https://localhost:8080/"
        },
        "id": "YinAVT23dm48",
        "outputId": "8336302b-c5bf-479f-b5b0-eb59f505612c"
      },
      "source": [
        "trainData.isna().sum()"
      ],
      "execution_count": 7,
      "outputs": [
        {
          "output_type": "execute_result",
          "data": {
            "text/plain": [
              "MONTH                   0\n",
              "WEEKOFMONTH             0\n",
              "DAYOFWEEK               0\n",
              "MAKE                    0\n",
              "ACCIDENTAREA            0\n",
              "DAYOFWEEKCLAIMED        0\n",
              "MONTHCLAIMED            0\n",
              "WEEKOFMONTHCLAIMED      0\n",
              "SEX                     0\n",
              "MARITALSTATUS           0\n",
              "AGE                     0\n",
              "FAULT                   0\n",
              "POLICYTYPE              0\n",
              "VEHICLECATEGORY         0\n",
              "VEHICLEPRICE            0\n",
              "REPNUMBER               0\n",
              "DEDUCTIBLE              0\n",
              "DRIVERRATING            0\n",
              "DAYS_POLICY_ACCIDENT    0\n",
              "DAYS_POLICY_CLAIM       0\n",
              "PASTNUMBEROFCLAIMS      0\n",
              "AGEOFVEHICLE            0\n",
              "AGEOFPOLICYHOLDER       0\n",
              "POLICEREPORTFILED       0\n",
              "WITNESSPRESENT          0\n",
              "AGENTTYPE               0\n",
              "NUMBEROFSUPPLIMENTS     0\n",
              "ADDRESSCHANGE_CLAIM     0\n",
              "NUMBEROFCARS            0\n",
              "YEAR                    0\n",
              "BASEPOLICY              0\n",
              "FRAUDFOUND              0\n",
              "dtype: int64"
            ]
          },
          "metadata": {},
          "execution_count": 7
        }
      ]
    },
    {
      "cell_type": "code",
      "metadata": {
        "id": "SWOTk6C1Ao45"
      },
      "source": [
        "#List of Categorical Features\n",
        "categoricalFeatures = [\"MONTH\", \"DAYOFWEEK\", \"MAKE\", \"ACCIDENTAREA\", \"DAYOFWEEKCLAIMED\", \\\n",
        "                        \"MONTHCLAIMED\", \"SEX\", \"MARITALSTATUS\", \"AGE\", \"FAULT\", \\\n",
        "                        \"POLICYTYPE\", \"VEHICLECATEGORY\", \"VEHICLEPRICE\", \\\n",
        "                        \"DAYS_POLICY_ACCIDENT\", \"DAYS_POLICY_CLAIM\", \\\n",
        "                        \"PASTNUMBEROFCLAIMS\", \"AGEOFVEHICLE\", \"AGEOFPOLICYHOLDER\",\\\n",
        "                        \"POLICEREPORTFILED\", \"WITNESSPRESENT\", \"AGENTTYPE\", \"NUMBEROFSUPPLIMENTS\", \\\n",
        "                        \"ADDRESSCHANGE_CLAIM\", \"NUMBEROFCARS\", \"BASEPOLICY\", \"WEEKOFMONTH\", \"WEEKOFMONTHCLAIMED\",\n",
        "                       \"REPNUMBER\", \"DEDUCTIBLE\", \"DRIVERRATING\"]\n",
        "\n",
        "#Combine Train and test for one Hot Encoding\n",
        "combined_Data = pd.concat([trainData,testData], keys=[0,1])\n",
        "\n",
        "#Do one Hot encoding for categorical features\n",
        "combined_Data = pd.get_dummies(combined_Data,columns=categoricalFeatures)\n",
        "\n",
        "#Separate Train data and test data\n",
        "trainData = combined_Data.xs(0)\n",
        "testData = combined_Data.xs(1)\n",
        "\n",
        "y_train = trainData['FRAUDFOUND']\n",
        "X_train = trainData.drop(['FRAUDFOUND'], axis=1) #extracting training data without the target column\n",
        "y_test = testData['FRAUDFOUND']\n",
        "X_test = testData.drop(['FRAUDFOUND'], axis=1) #extracting testing data without the target column\n"
      ],
      "execution_count": 8,
      "outputs": []
    },
    {
      "cell_type": "markdown",
      "metadata": {
        "id": "TUllygIos9Kg"
      },
      "source": [
        "# Decision Tree Modeling"
      ]
    },
    {
      "cell_type": "code",
      "metadata": {
        "colab": {
          "base_uri": "https://localhost:8080/"
        },
        "id": "-Yd724taAv3o",
        "outputId": "c0201bab-bfba-47a8-8621-5bd86598fa62"
      },
      "source": [
        "#Decision Tree Classifier ========================================================================\n",
        "#CONSTRUCT DEFAULT DECISION TREE AND OBTAIN RESPECTIVE ACCURACY \n",
        "clf = DecisionTreeClassifier()\n",
        "clf.fit(X_train, y_train)\n",
        "clf_predict=clf.predict(X_test)\n",
        "print(\"accuracy Score (testset) for Decision Tree:{0:6f}\".format(clf.score(X_test,y_test)))\n",
        "print(\"Confusion Matrix for Decision Tree\")\n",
        "print(confusion_matrix(y_test,clf_predict))\n",
        "\n"
      ],
      "execution_count": 88,
      "outputs": [
        {
          "output_type": "stream",
          "name": "stdout",
          "text": [
            "accuracy Score (testset) for Decision Tree:0.896037\n",
            "Confusion Matrix for Decision Tree\n",
            "[[11131  1289]\n",
            " [   54   444]]\n"
          ]
        }
      ]
    },
    {
      "cell_type": "code",
      "metadata": {
        "colab": {
          "base_uri": "https://localhost:8080/"
        },
        "id": "TXb6pXkivLBe",
        "outputId": "81670472-b8d2-4d1c-9610-43f92a12f77c"
      },
      "source": [
        "print(clf.feature_importances_)"
      ],
      "execution_count": 89,
      "outputs": [
        {
          "output_type": "stream",
          "name": "stdout",
          "text": [
            "[0.11206823 0.00144544 0.00571293 0.00632343 0.00908239 0.0065342\n",
            " 0.00412983 0.00240907 0.01053643 0.         0.0022878  0.00945385\n",
            " 0.00501074 0.00129057 0.00354133 0.01501137 0.00681996 0.00849494\n",
            " 0.00644827 0.00553397 0.00673436 0.         0.0049558  0.\n",
            " 0.         0.00313179 0.00252952 0.         0.         0.00760311\n",
            " 0.         0.0024779  0.00221021 0.01235809 0.         0.\n",
            " 0.00211039 0.00124738 0.00431112 0.         0.00192725 0.00931892\n",
            " 0.00822524 0.00664334 0.         0.00372381 0.01057236 0.01165397\n",
            " 0.01012311 0.00754569 0.00282518 0.00192725 0.00511647 0.00371553\n",
            " 0.00690318 0.00199412 0.00816118 0.00660497 0.00293385 0.00068566\n",
            " 0.0023127  0.00393775 0.         0.         0.00713084 0.\n",
            " 0.00134423 0.         0.         0.         0.         0.\n",
            " 0.         0.00246382 0.         0.00371589 0.         0.00476447\n",
            " 0.00813756 0.00055676 0.00391746 0.00867476 0.00187392 0.00363245\n",
            " 0.0015418  0.         0.0070284  0.         0.00060931 0.\n",
            " 0.00085793 0.         0.         0.00199141 0.0019428  0.00282891\n",
            " 0.         0.00155618 0.00032836 0.00494696 0.00242507 0.\n",
            " 0.00666819 0.         0.00537102 0.00309737 0.00015635 0.\n",
            " 0.00312228 0.0021248  0.         0.00614816 0.         0.00126306\n",
            " 0.         0.00052955 0.         0.         0.00267312 0.00230956\n",
            " 0.         0.         0.         0.00265677 0.         0.\n",
            " 0.         0.         0.         0.         0.         0.\n",
            " 0.02587956 0.03334206 0.01978788 0.00619153 0.         0.\n",
            " 0.         0.         0.00256967 0.00233052 0.         0.\n",
            " 0.00628388 0.         0.00837451 0.         0.00256967 0.\n",
            " 0.00436136 0.00192725 0.         0.         0.         0.00239135\n",
            " 0.         0.         0.         0.         0.         0.01667643\n",
            " 0.00264309 0.00939161 0.         0.00121742 0.00110831 0.00792804\n",
            " 0.00504467 0.00144544 0.         0.         0.         0.\n",
            " 0.         0.         0.01143344 0.         0.00192725 0.\n",
            " 0.00379339 0.         0.00273873 0.         0.         0.00251153\n",
            " 0.         0.01251666 0.         0.00984964 0.         0.\n",
            " 0.03543781 0.         0.00332285 0.         0.00390269 0.00462541\n",
            " 0.         0.         0.         0.         0.00345194 0.07108024\n",
            " 0.00289088 0.00642353 0.01042367 0.01031453 0.01203962 0.0032768\n",
            " 0.00702746 0.         0.00144544 0.00496268 0.00945792 0.\n",
            " 0.00778684 0.00192725 0.0027102  0.         0.00439328 0.00543858\n",
            " 0.0019182  0.00187269 0.011298   0.01398708 0.00852556 0.00563662\n",
            " 0.00446433 0.00381107 0.         0.         0.00288519 0.00127473\n",
            " 0.01145603 0.00712396 0.01012651 0.        ]\n"
          ]
        }
      ]
    },
    {
      "cell_type": "markdown",
      "metadata": {
        "id": "M25FeRUeQQkr"
      },
      "source": [
        "###Decision Tree Hyperparameter Tuning 1\n",
        "\n",
        "\n"
      ]
    },
    {
      "cell_type": "code",
      "metadata": {
        "colab": {
          "base_uri": "https://localhost:8080/"
        },
        "id": "acymCZogA1B1",
        "outputId": "b4120321-94b7-4830-d786-8b88d3777ce0"
      },
      "source": [
        "#Hyperparameter tuning done for decision tree classifier\n",
        "\n",
        "#do random search\n",
        "print(\"RandomizedSearchCV-Decision tree\")\n",
        "parameters={'min_samples_leaf' : range(100,1000,100),'max_depth': range(15,50,15),'criterion':['gini','entropy']}\n",
        "clf_random = RandomizedSearchCV(clf,parameters,n_iter=10,cv=10)\n",
        "clf_random.fit(X_train, y_train)\n",
        "grid_parm=clf_random.best_params_\n",
        "print(grid_parm)"
      ],
      "execution_count": 90,
      "outputs": [
        {
          "output_type": "stream",
          "name": "stdout",
          "text": [
            "RandomizedSearchCV-Decision tree\n",
            "{'min_samples_leaf': 700, 'max_depth': 15, 'criterion': 'entropy'}\n"
          ]
        }
      ]
    },
    {
      "cell_type": "code",
      "metadata": {
        "colab": {
          "base_uri": "https://localhost:8080/"
        },
        "id": "LrVi-mErwtCz",
        "outputId": "5067f042-7c6d-4330-f730-5a7abfac4906"
      },
      "source": [
        "#Now do grid search\n",
        "print(\"GridSearchCV-Decision tree\")\n",
        "parameters2={'min_samples_leaf' : range(10,50,10),'criterion':['gini','entropy'], 'splitter':['best','random']}\n",
        "clf_grid = GridSearchCV(clf, parameters2, cv=5, verbose=1)\n",
        "clf_grid.fit(X_train, y_train)\n",
        "grid_parm1=clf_grid.best_params_\n",
        "print(grid_parm1)"
      ],
      "execution_count": 91,
      "outputs": [
        {
          "output_type": "stream",
          "name": "stdout",
          "text": [
            "GridSearchCV-Decision tree\n",
            "Fitting 5 folds for each of 16 candidates, totalling 80 fits\n"
          ]
        },
        {
          "output_type": "stream",
          "name": "stderr",
          "text": [
            "[Parallel(n_jobs=1)]: Using backend SequentialBackend with 1 concurrent workers.\n"
          ]
        },
        {
          "output_type": "stream",
          "name": "stdout",
          "text": [
            "{'criterion': 'entropy', 'min_samples_leaf': 40, 'splitter': 'random'}\n"
          ]
        },
        {
          "output_type": "stream",
          "name": "stderr",
          "text": [
            "[Parallel(n_jobs=1)]: Done  80 out of  80 | elapsed:    2.9s finished\n"
          ]
        }
      ]
    },
    {
      "cell_type": "code",
      "metadata": {
        "id": "EesI2Lc7A587"
      },
      "source": [
        "#Using the parameters obtained from HyperParameterTuning in the DecisionTreeClassifier\n",
        "#Construct Decision Trees using the best parameters\n",
        "clf = DecisionTreeClassifier(**grid_parm)\n",
        "clfr = DecisionTreeClassifier(**grid_parm1)\n",
        "\n",
        "clf.fit(X_train,y_train)\n",
        "clf_predict = clf.predict(X_test)\n",
        "clfr.fit(X_train,y_train)\n",
        "clfr_predict = clfr.predict(X_test)\n",
        "\n",
        "\n"
      ],
      "execution_count": 92,
      "outputs": []
    },
    {
      "cell_type": "code",
      "metadata": {
        "colab": {
          "base_uri": "https://localhost:8080/"
        },
        "id": "UW1oB-MjBAjK",
        "outputId": "ee634f90-24da-4e22-a9b0-3af143f77181"
      },
      "source": [
        "#Obtain accuracy ,confusion matrix,classification report and AUC values for the result above.\n",
        "print(\"accuracy Score (testset) after hypertuning randomized search for Decision Tree:{0:6f}\".format(clf.score(X_test,y_test)))\n",
        "\n",
        "print(\"accuracy Score (testset) after hypertuning grid search for Decision Tree:{0:6f}\".format(clfr.score(X_test,y_test)))\n",
        "print(\"Confusion Matrix after hypertuning for Decision Tree\")\n",
        "print(confusion_matrix(y_test,clf_predict))\n",
        "print(\"=== Classification Report ===\")\n",
        "print(classification_report(y_test,clf_predict))\n"
      ],
      "execution_count": 93,
      "outputs": [
        {
          "output_type": "stream",
          "name": "stdout",
          "text": [
            "accuracy Score (testset) after hypertuning randomized search for Decision Tree:0.961449\n",
            "accuracy Score (testset) after hypertuning grid search for Decision Tree:0.893482\n",
            "Confusion Matrix after hypertuning for Decision Tree\n",
            "[[12420     0]\n",
            " [  498     0]]\n",
            "=== Classification Report ===\n",
            "              precision    recall  f1-score   support\n",
            "\n",
            "          No       0.96      1.00      0.98     12420\n",
            "         Yes       0.00      0.00      0.00       498\n",
            "\n",
            "    accuracy                           0.96     12918\n",
            "   macro avg       0.48      0.50      0.49     12918\n",
            "weighted avg       0.92      0.96      0.94     12918\n",
            "\n"
          ]
        }
      ]
    },
    {
      "cell_type": "code",
      "metadata": {
        "colab": {
          "base_uri": "https://localhost:8080/"
        },
        "id": "rl4BPVZoFYyg",
        "outputId": "ae35f74c-209b-4e95-aa2e-bb8acbcee680"
      },
      "source": [
        "#cross validation using decision tree model\n",
        "clf_cv_score = cross_val_score(clf, X_train, y_train, cv=7, \n",
        "                               verbose=2, scoring=\"balanced_accuracy\")\n",
        "print(clf_cv_score)\n",
        "print('\\n')"
      ],
      "execution_count": 98,
      "outputs": [
        {
          "output_type": "stream",
          "name": "stdout",
          "text": [
            "[CV]  ................................................................\n",
            "[CV] ................................................. , total=   0.0s\n",
            "[CV]  ................................................................\n",
            "[CV] ................................................. , total=   0.0s\n",
            "[CV]  ................................................................\n",
            "[CV] ................................................. , total=   0.0s\n",
            "[CV]  ................................................................\n",
            "[CV] ................................................. , total=   0.0s\n",
            "[CV]  ................................................................\n",
            "[CV] ................................................. , total=   0.0s\n",
            "[CV]  ................................................................\n",
            "[CV] ................................................. , total=   0.0s\n",
            "[CV]  ................................................................\n",
            "[CV] ................................................. , total=   0.0s\n",
            "[0.5 0.5 0.5 0.5 0.5 0.5 0.5]\n",
            "\n",
            "\n"
          ]
        },
        {
          "output_type": "stream",
          "name": "stderr",
          "text": [
            "[Parallel(n_jobs=1)]: Using backend SequentialBackend with 1 concurrent workers.\n",
            "[Parallel(n_jobs=1)]: Done   1 out of   1 | elapsed:    0.0s remaining:    0.0s\n",
            "[Parallel(n_jobs=1)]: Done   7 out of   7 | elapsed:    0.2s finished\n"
          ]
        }
      ]
    },
    {
      "cell_type": "markdown",
      "metadata": {
        "id": "N_FjQWcHQYmy"
      },
      "source": [
        "###Decision Tree Hyperparameter Tuning 2\n",
        "\n",
        "\n"
      ]
    },
    {
      "cell_type": "code",
      "metadata": {
        "colab": {
          "base_uri": "https://localhost:8080/"
        },
        "id": "Mah2rEK3QhQ_",
        "outputId": "1d83fe2a-5578-4823-f73d-61e3c3572778"
      },
      "source": [
        "#Hyperparameter tuning done for decision tree classifier\n",
        "\n",
        "#do random search\n",
        "print(\"RandomizedSearchCV-Decision tree\")\n",
        "parameters={'min_samples_leaf' : range(40,200,40),'max_depth': range(40,200,25),'criterion':['entropy'], 'max_leaf_nodes' : range(10,100,10)}\n",
        "clf_random = RandomizedSearchCV(clf,parameters,n_iter=4,cv=6)\n",
        "clf_random.fit(X_train, y_train)\n",
        "grid_parm=clf_random.best_params_\n",
        "print(grid_parm)"
      ],
      "execution_count": 99,
      "outputs": [
        {
          "output_type": "stream",
          "name": "stdout",
          "text": [
            "RandomizedSearchCV-Decision tree\n",
            "{'min_samples_leaf': 40, 'max_leaf_nodes': 90, 'max_depth': 65, 'criterion': 'entropy'}\n"
          ]
        }
      ]
    },
    {
      "cell_type": "code",
      "metadata": {
        "colab": {
          "base_uri": "https://localhost:8080/"
        },
        "id": "mkzXCNC0QiiY",
        "outputId": "5ac5db54-bc5d-431f-cad0-4914bedb5335"
      },
      "source": [
        "#Now do grid search\n",
        "print(\"GridSearchCV-Decision tree\")\n",
        "parameters2={'min_samples_leaf' : range(30,200,30),'criterion':['gini','entropy'], 'splitter':['best']}\n",
        "clf_grid = GridSearchCV(clf, parameters2, cv=5, verbose=3, n_jobs=2)\n",
        "clf_grid.fit(X_train, y_train)\n",
        "grid_parm1=clf_grid.best_params_\n",
        "print(grid_parm1)"
      ],
      "execution_count": 100,
      "outputs": [
        {
          "output_type": "stream",
          "name": "stdout",
          "text": [
            "GridSearchCV-Decision tree\n",
            "Fitting 5 folds for each of 12 candidates, totalling 60 fits\n"
          ]
        },
        {
          "output_type": "stream",
          "name": "stderr",
          "text": [
            "[Parallel(n_jobs=2)]: Using backend LokyBackend with 2 concurrent workers.\n"
          ]
        },
        {
          "output_type": "stream",
          "name": "stdout",
          "text": [
            "{'criterion': 'entropy', 'min_samples_leaf': 60, 'splitter': 'best'}\n"
          ]
        },
        {
          "output_type": "stream",
          "name": "stderr",
          "text": [
            "[Parallel(n_jobs=2)]: Done  60 out of  60 | elapsed:    1.7s finished\n"
          ]
        }
      ]
    },
    {
      "cell_type": "code",
      "metadata": {
        "id": "a1-Jr3khQkjW"
      },
      "source": [
        "#Using the parameters obtained from HyperParameterTuning in the DecisionTreeClassifier\n",
        "#Construct Decision Trees using the best parameters\n",
        "clf = DecisionTreeClassifier(**grid_parm)\n",
        "clfr = DecisionTreeClassifier(**grid_parm1)\n",
        "\n",
        "clf.fit(X_train,y_train)\n",
        "clf_predict = clf.predict(X_test)\n",
        "clfr.fit(X_train,y_train)\n",
        "clfr_predict = clfr.predict(X_test)\n"
      ],
      "execution_count": 101,
      "outputs": []
    },
    {
      "cell_type": "code",
      "metadata": {
        "colab": {
          "base_uri": "https://localhost:8080/"
        },
        "id": "HQuXvyfFQmuF",
        "outputId": "9479c337-9e6d-47be-a699-4f798ddf9792"
      },
      "source": [
        "#Obtain accuracy ,confusion matrix,classification report and AUC values for the result above.\n",
        "print(\"accuracy Score (testset) after hypertuning randomized search for Decision Tree:{0:6f}\".format(clf.score(X_test,y_test)))\n",
        "\n",
        "print(\"accuracy Score (testset) after hypertuning grid search for Decision Tree:{0:6f}\".format(clfr.score(X_test,y_test)))\n",
        "print(\"Confusion Matrix after hypertuning for Decision Tree\")\n",
        "print(confusion_matrix(y_test,clf_predict))\n",
        "print(\"=== Classification Report ===\")\n",
        "print(classification_report(y_test,clf_predict))"
      ],
      "execution_count": 102,
      "outputs": [
        {
          "output_type": "stream",
          "name": "stdout",
          "text": [
            "accuracy Score (testset) after hypertuning randomized search for Decision Tree:0.893482\n",
            "accuracy Score (testset) after hypertuning grid search for Decision Tree:0.882877\n",
            "Confusion Matrix after hypertuning for Decision Tree\n",
            "[[11378  1042]\n",
            " [  334   164]]\n",
            "=== Classification Report ===\n",
            "              precision    recall  f1-score   support\n",
            "\n",
            "          No       0.97      0.92      0.94     12420\n",
            "         Yes       0.14      0.33      0.19       498\n",
            "\n",
            "    accuracy                           0.89     12918\n",
            "   macro avg       0.55      0.62      0.57     12918\n",
            "weighted avg       0.94      0.89      0.91     12918\n",
            "\n"
          ]
        }
      ]
    },
    {
      "cell_type": "code",
      "metadata": {
        "colab": {
          "base_uri": "https://localhost:8080/"
        },
        "id": "UGPZUKFHQoey",
        "outputId": "75a455fd-6ff6-4c2c-e4c0-e51354b3084d"
      },
      "source": [
        "#cross validation using decision tree model\n",
        "clf_cv_score = cross_val_score(clf, X_train, y_train, cv=10, \n",
        "                               verbose=8, scoring=\"balanced_accuracy\")\n",
        "print(clf_cv_score)\n",
        "print('\\n')"
      ],
      "execution_count": 103,
      "outputs": [
        {
          "output_type": "stream",
          "name": "stderr",
          "text": [
            "[Parallel(n_jobs=1)]: Using backend SequentialBackend with 1 concurrent workers.\n",
            "[Parallel(n_jobs=1)]: Done   1 out of   1 | elapsed:    0.0s remaining:    0.0s\n",
            "[Parallel(n_jobs=1)]: Done   2 out of   2 | elapsed:    0.1s remaining:    0.0s\n",
            "[Parallel(n_jobs=1)]: Done   3 out of   3 | elapsed:    0.1s remaining:    0.0s\n",
            "[Parallel(n_jobs=1)]: Done   4 out of   4 | elapsed:    0.2s remaining:    0.0s\n"
          ]
        },
        {
          "output_type": "stream",
          "name": "stdout",
          "text": [
            "[CV]  ................................................................\n",
            "[CV] .................................... , score=0.890, total=   0.0s\n",
            "[CV]  ................................................................\n",
            "[CV] .................................... , score=0.762, total=   0.0s\n",
            "[CV]  ................................................................\n",
            "[CV] .................................... , score=0.780, total=   0.0s\n",
            "[CV]  ................................................................\n",
            "[CV] .................................... , score=0.675, total=   0.0s\n",
            "[CV]  ................................................................\n",
            "[CV] .................................... , score=0.588, total=   0.0s\n",
            "[CV]  ................................................................\n",
            "[CV] .................................... , score=0.500, total=   0.0s\n",
            "[CV]  ................................................................\n",
            "[CV] .................................... , score=0.500, total=   0.0s\n",
            "[CV]  ................................................................\n",
            "[CV] .................................... , score=0.500, total=   0.0s\n",
            "[CV]  ................................................................\n",
            "[CV] .................................... , score=0.550, total=   0.0s\n",
            "[CV]  ................................................................\n"
          ]
        },
        {
          "output_type": "stream",
          "name": "stderr",
          "text": [
            "[Parallel(n_jobs=1)]: Done   5 out of   5 | elapsed:    0.2s remaining:    0.0s\n",
            "[Parallel(n_jobs=1)]: Done   6 out of   6 | elapsed:    0.3s remaining:    0.0s\n",
            "[Parallel(n_jobs=1)]: Done   7 out of   7 | elapsed:    0.3s remaining:    0.0s\n"
          ]
        },
        {
          "output_type": "stream",
          "name": "stdout",
          "text": [
            "[CV] .................................... , score=0.615, total=   0.0s\n",
            "[0.89038462 0.76153846 0.77980769 0.675      0.5875     0.5\n",
            " 0.5        0.5        0.55       0.61538462]\n",
            "\n",
            "\n"
          ]
        },
        {
          "output_type": "stream",
          "name": "stderr",
          "text": [
            "[Parallel(n_jobs=1)]: Done  10 out of  10 | elapsed:    0.5s finished\n"
          ]
        }
      ]
    },
    {
      "cell_type": "markdown",
      "metadata": {
        "id": "RM_vWA8BSP36"
      },
      "source": [
        "###Decision Tree Hyperparameter Tuning 3\n"
      ]
    },
    {
      "cell_type": "code",
      "metadata": {
        "colab": {
          "base_uri": "https://localhost:8080/"
        },
        "id": "7T1Apax2SUav",
        "outputId": "28180542-e66b-405f-bbf0-739e4eaa299f"
      },
      "source": [
        "#Hyperparameter tuning done for decision tree classifier\n",
        "\n",
        "#do random search\n",
        "print(\"RandomizedSearchCV-Decision tree\")\n",
        "parameters={'min_samples_split' : range(10,100,10),'max_depth': range(25,100,25),'criterion':['entropy'], 'max_leaf_nodes' : range( 20,100,20)}\n",
        "clf_random = RandomizedSearchCV(clf,parameters,n_iter=20,cv=5)\n",
        "clf_random.fit(X_train, y_train)\n",
        "grid_parm=clf_random.best_params_\n",
        "print(grid_parm)"
      ],
      "execution_count": 104,
      "outputs": [
        {
          "output_type": "stream",
          "name": "stdout",
          "text": [
            "RandomizedSearchCV-Decision tree\n",
            "{'min_samples_split': 70, 'max_leaf_nodes': 80, 'max_depth': 75, 'criterion': 'entropy'}\n"
          ]
        }
      ]
    },
    {
      "cell_type": "code",
      "metadata": {
        "colab": {
          "base_uri": "https://localhost:8080/"
        },
        "id": "0iRS7hgHSVAK",
        "outputId": "0900fcac-0316-4a05-ae02-d67a5e1b6dc6"
      },
      "source": [
        "#Now do grid search\n",
        "print(\"GridSearchCV-Decision tree\")\n",
        "parameters2={'min_samples_leaf' : range(5,100,50),'criterion':['gini','entropy'], 'splitter':['random'], 'max_leaf_nodes' : range( 20,100,20)}\n",
        "clf_grid = GridSearchCV(clf, parameters2, cv=2)\n",
        "clf_grid.fit(X_train, y_train)\n",
        "grid_parm1=clf_grid.best_params_\n",
        "print(grid_parm1)"
      ],
      "execution_count": 105,
      "outputs": [
        {
          "output_type": "stream",
          "name": "stdout",
          "text": [
            "GridSearchCV-Decision tree\n",
            "{'criterion': 'entropy', 'max_leaf_nodes': 20, 'min_samples_leaf': 5, 'splitter': 'random'}\n"
          ]
        }
      ]
    },
    {
      "cell_type": "code",
      "metadata": {
        "id": "IIZ37PJ4SXMD"
      },
      "source": [
        "#Using the parameters obtained from HyperParameterTuning in the DecisionTreeClassifier\n",
        "#Construct Decision Trees using the best parameters\n",
        "clf = DecisionTreeClassifier(**grid_parm)\n",
        "clfr = DecisionTreeClassifier(**grid_parm1)\n",
        "\n",
        "clf.fit(X_train,y_train)\n",
        "clf_predict = clf.predict(X_test)\n",
        "clfr.fit(X_train,y_train)\n",
        "clfr_predict = clfr.predict(X_test)"
      ],
      "execution_count": 106,
      "outputs": []
    },
    {
      "cell_type": "code",
      "metadata": {
        "colab": {
          "base_uri": "https://localhost:8080/"
        },
        "id": "5bHreYnnSevz",
        "outputId": "bdb6f133-4302-40f7-8856-2bf051c627cd"
      },
      "source": [
        "#Obtain accuracy ,confusion matrix,classification report and AUC values for the result above.\n",
        "print(\"accuracy Score (testset) after hypertuning randomized search for Decision Tree:{0:6f}\".format(clf.score(X_test,y_test)))\n",
        "\n",
        "print(\"accuracy Score (testset) after hypertuning grid search for Decision Tree:{0:6f}\".format(clfr.score(X_test,y_test)))\n",
        "print(\"Confusion Matrix after hypertuning for Decision Tree\")\n",
        "print(confusion_matrix(y_test,clf_predict))\n",
        "print(\"=== Classification Report ===\")\n",
        "print(classification_report(y_test,clf_predict))"
      ],
      "execution_count": 107,
      "outputs": [
        {
          "output_type": "stream",
          "name": "stdout",
          "text": [
            "accuracy Score (testset) after hypertuning randomized search for Decision Tree:0.903081\n",
            "accuracy Score (testset) after hypertuning grid search for Decision Tree:0.929246\n",
            "Confusion Matrix after hypertuning for Decision Tree\n",
            "[[11422   998]\n",
            " [  254   244]]\n",
            "=== Classification Report ===\n",
            "              precision    recall  f1-score   support\n",
            "\n",
            "          No       0.98      0.92      0.95     12420\n",
            "         Yes       0.20      0.49      0.28       498\n",
            "\n",
            "    accuracy                           0.90     12918\n",
            "   macro avg       0.59      0.70      0.61     12918\n",
            "weighted avg       0.95      0.90      0.92     12918\n",
            "\n"
          ]
        }
      ]
    },
    {
      "cell_type": "code",
      "metadata": {
        "colab": {
          "base_uri": "https://localhost:8080/"
        },
        "id": "So0xwGhpSgTU",
        "outputId": "e274199e-67b1-4a24-a83b-df708d542461"
      },
      "source": [
        "#cross validation using decision tree model\n",
        "clf_cv_score = cross_val_score(clf, X_train, y_train)\n",
        "print(clf_cv_score)\n",
        "print('\\n')"
      ],
      "execution_count": 108,
      "outputs": [
        {
          "output_type": "stream",
          "name": "stdout",
          "text": [
            "[0.89833333 0.87333333 0.86       0.86166667 0.82136895]\n",
            "\n",
            "\n"
          ]
        }
      ]
    },
    {
      "cell_type": "markdown",
      "metadata": {
        "id": "qJ_31-KD-Ck-"
      },
      "source": [
        "# Random Forest Modeling"
      ]
    },
    {
      "cell_type": "code",
      "metadata": {
        "colab": {
          "base_uri": "https://localhost:8080/"
        },
        "id": "M9KXPcUtBE_E",
        "outputId": "f61672bf-27bd-4468-e43b-8c1f83cfbac5"
      },
      "source": [
        "#Normal randomforest==============================================================================\n",
        "#=================================================================================================\n",
        "rfc = RandomForestClassifier()\n",
        "rfc.fit(X_train, y_train)\n",
        "rfc_predict=rfc.predict(X_test)\n",
        "print(\"accuracy Score (testset) for RandomForest:{0:6f}\".format(rfc.score(X_test,y_test)))\n",
        "print(\"Confusion Matrix for Random Forest:\")\n",
        "print(confusion_matrix(y_test,rfc_predict))\n"
      ],
      "execution_count": 9,
      "outputs": [
        {
          "output_type": "stream",
          "name": "stdout",
          "text": [
            "accuracy Score (testset) for RandomForest:0.965707\n",
            "Confusion Matrix for Random Forest:\n",
            "[[12056   364]\n",
            " [   79   419]]\n"
          ]
        }
      ]
    },
    {
      "cell_type": "markdown",
      "metadata": {
        "id": "JJPAcJZ6ZWFT"
      },
      "source": [
        "###Random Forest Hyperparameter Tuning 1"
      ]
    },
    {
      "cell_type": "code",
      "metadata": {
        "colab": {
          "base_uri": "https://localhost:8080/"
        },
        "id": "ZoDNRWYbtk05",
        "outputId": "d746199f-f3e5-4d1a-fae6-733a20c1d393"
      },
      "source": [
        "#Hyperparameter tuning done for random forest classifier\n",
        "\n",
        "#do random search\n",
        "print(\"RandomizedSearchCV-Random Forest\")\n",
        "r_parameters={'min_samples_split' : range(10,100,10),'max_depth': range(25,100,25),'criterion':['entropy'], 'max_leaf_nodes' : range( 20,100,20)}\n",
        "rfc_random = RandomizedSearchCV(rfc,r_parameters,n_iter=5,cv=10)\n",
        "rfc_random.fit(X_train, y_train)\n",
        "grid_parmR=rfc_random.best_params_\n",
        "print(grid_parmR)"
      ],
      "execution_count": 10,
      "outputs": [
        {
          "output_type": "stream",
          "name": "stdout",
          "text": [
            "RandomizedSearchCV-Random Forest\n",
            "{'min_samples_split': 40, 'max_leaf_nodes': 80, 'max_depth': 75, 'criterion': 'entropy'}\n"
          ]
        }
      ]
    },
    {
      "cell_type": "code",
      "metadata": {
        "colab": {
          "base_uri": "https://localhost:8080/"
        },
        "id": "BFOj5wBWtuZq",
        "outputId": "2a05ef11-863c-4b93-b5e7-abfee95c5039"
      },
      "source": [
        "#Now do grid search\n",
        "print(\"GridSearchCV-Decision tree\")\n",
        "r_parameters2={'n_estimators': [5, 15, 30, 50],'criterion': ['gini', 'entropy']}\n",
        "rfc_grid = GridSearchCV(rfc, r_parameters2, n_jobs=-1)\n",
        "rfc_grid.fit(X_train, y_train)\n",
        "grid_parmR1=rfc_grid.best_params_\n",
        "print(grid_parmR1)"
      ],
      "execution_count": 11,
      "outputs": [
        {
          "output_type": "stream",
          "name": "stdout",
          "text": [
            "GridSearchCV-Decision tree\n",
            "{'criterion': 'entropy', 'n_estimators': 15}\n"
          ]
        }
      ]
    },
    {
      "cell_type": "code",
      "metadata": {
        "id": "_xNkYtVot4Xv"
      },
      "source": [
        "#Using the parameters obtained from HyperParameterTuning in the RandomForestClassifier\n",
        "#Construct Random Forest using the best parameters\n",
        "rfc = RandomForestClassifier(**grid_parmR)\n",
        "rfcr = RandomForestClassifier(**grid_parmR1)\n",
        "\n",
        "rfc.fit(X_train,y_train)\n",
        "rfc_predict = rfc.predict(X_test)\n",
        "rfcr.fit(X_train,y_train)\n",
        "rfcr_predict = rfcr.predict(X_test)"
      ],
      "execution_count": 12,
      "outputs": []
    },
    {
      "cell_type": "code",
      "metadata": {
        "colab": {
          "base_uri": "https://localhost:8080/"
        },
        "id": "fBbOcMXTuL1K",
        "outputId": "e8cf05dd-5f84-4682-f150-1830dab4c0dd"
      },
      "source": [
        "#Obtain accuracy ,confusion matrix,classification report and AUC values for the result above.\n",
        "print(\"accuracy Score (testset) after hypertuning randomized search for Random Forest:{0:6f}\".format(rfc.score(X_test,y_test)))\n",
        "\n",
        "print(\"accuracy Score (testset) after hypertuning grid search for Random Forest:{0:6f}\".format(rfcr.score(X_test,y_test)))\n",
        "print(\"Confusion Matrix after hypertuning for Random Forest\")\n",
        "print(confusion_matrix(y_test,rfc_predict))\n",
        "print(\"=== Classification Report ===\")\n",
        "print(classification_report(y_test,rfc_predict))"
      ],
      "execution_count": 25,
      "outputs": [
        {
          "output_type": "stream",
          "name": "stdout",
          "text": [
            "accuracy Score (testset) after hypertuning randomized search for Random Forest:0.961449\n",
            "accuracy Score (testset) after hypertuning grid search for Random Forest:0.963617\n",
            "Confusion Matrix after hypertuning for Random Forest\n",
            "[[12420     0]\n",
            " [  498     0]]\n",
            "=== Classification Report ===\n",
            "              precision    recall  f1-score   support\n",
            "\n",
            "          No       0.96      1.00      0.98     12420\n",
            "         Yes       0.00      0.00      0.00       498\n",
            "\n",
            "    accuracy                           0.96     12918\n",
            "   macro avg       0.48      0.50      0.49     12918\n",
            "weighted avg       0.92      0.96      0.94     12918\n",
            "\n"
          ]
        }
      ]
    },
    {
      "cell_type": "code",
      "metadata": {
        "colab": {
          "base_uri": "https://localhost:8080/"
        },
        "id": "BQD_2-r-uf7-",
        "outputId": "ab890ac7-38a3-4b1c-a284-f9ad93b30cf5"
      },
      "source": [
        "#cross validation using random forest model\n",
        "rfc_cv_score = cross_val_score(rfc, X_train, y_train, cv=4, \n",
        "                               scoring=\"balanced_accuracy\", error_score=5)\n",
        "print(rfc_cv_score)\n",
        "print('\\n')"
      ],
      "execution_count": 14,
      "outputs": [
        {
          "output_type": "stream",
          "name": "stdout",
          "text": [
            "[0.70730769 0.515      0.5        0.52525253]\n",
            "\n",
            "\n"
          ]
        }
      ]
    },
    {
      "cell_type": "markdown",
      "metadata": {
        "id": "VT4KUbWaul3a"
      },
      "source": [
        "###Random Forest Hyperparameter Tuning 2\n",
        "\n",
        "\n"
      ]
    },
    {
      "cell_type": "code",
      "metadata": {
        "colab": {
          "base_uri": "https://localhost:8080/"
        },
        "id": "KObPzug33qk-",
        "outputId": "33709c78-07ae-4a87-a41d-c40af9214191"
      },
      "source": [
        "#Hyperparameter tuning done for random forest classifier\n",
        "\n",
        "#do random search\n",
        "print(\"RandomizedSearchCV-Random Forest\")\n",
        "r_parameters={'min_samples_split' : range(85,570,100),'max_depth': range(15,80,15),'criterion':['gini'], 'max_leaf_nodes' : range( 200,1000,200)}\n",
        "rfc_random = RandomizedSearchCV(rfc,r_parameters,n_iter=10,cv=2)\n",
        "rfc_random.fit(X_train, y_train)\n",
        "grid_parmR=rfc_random.best_params_\n",
        "print(grid_parmR)"
      ],
      "execution_count": 27,
      "outputs": [
        {
          "output_type": "stream",
          "name": "stdout",
          "text": [
            "RandomizedSearchCV-Random Forest\n",
            "{'min_samples_split': 85, 'max_leaf_nodes': 600, 'max_depth': 30, 'criterion': 'gini'}\n"
          ]
        }
      ]
    },
    {
      "cell_type": "code",
      "metadata": {
        "colab": {
          "base_uri": "https://localhost:8080/"
        },
        "id": "_7HoyNZu3rP-",
        "outputId": "43132c7f-0f7e-4e1b-e452-332011e55212"
      },
      "source": [
        "#Now do grid search\n",
        "print(\"GridSearchCV-Decision tree\")\n",
        "r_parameters2={'n_estimators': [25, 55, 10, 20],'criterion': ['gini', 'entropy']}\n",
        "rfc_grid = GridSearchCV(rfc, r_parameters2, n_jobs=5, verbose=5)\n",
        "rfc_grid.fit(X_train, y_train)\n",
        "grid_parmR1=rfc_grid.best_params_\n",
        "print(grid_parmR1)"
      ],
      "execution_count": 28,
      "outputs": [
        {
          "output_type": "stream",
          "name": "stdout",
          "text": [
            "GridSearchCV-Decision tree\n",
            "Fitting 5 folds for each of 8 candidates, totalling 40 fits\n"
          ]
        },
        {
          "output_type": "stream",
          "name": "stderr",
          "text": [
            "[Parallel(n_jobs=5)]: Using backend LokyBackend with 5 concurrent workers.\n",
            "[Parallel(n_jobs=5)]: Done   8 tasks      | elapsed:    4.5s\n"
          ]
        },
        {
          "output_type": "stream",
          "name": "stdout",
          "text": [
            "{'criterion': 'gini', 'n_estimators': 25}\n"
          ]
        },
        {
          "output_type": "stream",
          "name": "stderr",
          "text": [
            "[Parallel(n_jobs=5)]: Done  40 out of  40 | elapsed:    6.6s remaining:    0.0s\n",
            "[Parallel(n_jobs=5)]: Done  40 out of  40 | elapsed:    6.6s finished\n"
          ]
        }
      ]
    },
    {
      "cell_type": "code",
      "metadata": {
        "id": "vm26mqpJ3s6I"
      },
      "source": [
        "#Using the parameters obtained from HyperParameterTuning in the RandomForestClassifier\n",
        "#Construct Random Forest using the best parameters\n",
        "rfc = RandomForestClassifier(**grid_parmR)\n",
        "rfcr = RandomForestClassifier(**grid_parmR1)\n",
        "\n",
        "rfc.fit(X_train,y_train)\n",
        "rfc_predict = rfc.predict(X_test)\n",
        "rfcr.fit(X_train,y_train)\n",
        "rfcr_predict = rfcr.predict(X_test)"
      ],
      "execution_count": 29,
      "outputs": []
    },
    {
      "cell_type": "code",
      "metadata": {
        "colab": {
          "base_uri": "https://localhost:8080/"
        },
        "id": "kOs7_Vvg3ujB",
        "outputId": "c661d1a2-567f-4a56-83f4-4098bc26a4b1"
      },
      "source": [
        "#Obtain accuracy ,confusion matrix,classification report and AUC values for the result above.\n",
        "print(\"accuracy Score (testset) after hypertuning randomized search for Random Forest:{0:6f}\".format(rfc.score(X_test,y_test)))\n",
        "\n",
        "print(\"accuracy Score (testset) after hypertuning grid search for Random Forest:{0:6f}\".format(rfcr.score(X_test,y_test)))\n",
        "print(\"Confusion Matrix after hypertuning for Random Forest\")\n",
        "print(confusion_matrix(y_test,rfc_predict))\n",
        "print(\"=== Classification Report ===\")\n",
        "print(classification_report(y_test,rfc_predict))"
      ],
      "execution_count": 30,
      "outputs": [
        {
          "output_type": "stream",
          "name": "stdout",
          "text": [
            "accuracy Score (testset) after hypertuning randomized search for Random Forest:0.954947\n",
            "accuracy Score (testset) after hypertuning grid search for Random Forest:0.960675\n",
            "Confusion Matrix after hypertuning for Random Forest\n",
            "[[12258   162]\n",
            " [  420    78]]\n",
            "=== Classification Report ===\n",
            "              precision    recall  f1-score   support\n",
            "\n",
            "          No       0.97      0.99      0.98     12420\n",
            "         Yes       0.33      0.16      0.21       498\n",
            "\n",
            "    accuracy                           0.95     12918\n",
            "   macro avg       0.65      0.57      0.59     12918\n",
            "weighted avg       0.94      0.95      0.95     12918\n",
            "\n"
          ]
        }
      ]
    },
    {
      "cell_type": "code",
      "metadata": {
        "colab": {
          "base_uri": "https://localhost:8080/"
        },
        "id": "Q0JRNKtZ3095",
        "outputId": "9d5b5af7-c47f-4c91-921f-0267e25cdc59"
      },
      "source": [
        "#cross validation using random forest model\n",
        "rfc_cv_score = cross_val_score(rfc, X_train, y_train, cv=5, \n",
        "                               scoring=\"balanced_accuracy\", \n",
        "                               n_jobs=3, error_score=3)\n",
        "print(rfc_cv_score)\n",
        "print('\\n')"
      ],
      "execution_count": 31,
      "outputs": [
        {
          "output_type": "stream",
          "name": "stdout",
          "text": [
            "[0.53461538 0.5125     0.5125     0.5        0.51265823]\n",
            "\n",
            "\n"
          ]
        }
      ]
    },
    {
      "cell_type": "markdown",
      "metadata": {
        "id": "hNiaALNr8UvH"
      },
      "source": [
        "###Random Forest Hyperparameter Tuning 3\n"
      ]
    },
    {
      "cell_type": "code",
      "metadata": {
        "colab": {
          "base_uri": "https://localhost:8080/"
        },
        "id": "ONIglirU8Y29",
        "outputId": "969ecd30-8b2b-4690-a043-5af7bd8bbc34"
      },
      "source": [
        "#Hyperparameter tuning done for random forest classifier\n",
        "\n",
        "#do random search\n",
        "print(\"RandomizedSearchCV-Random Forest\")\n",
        "r_parameters={'min_samples_split' : range(200,800,150),'max_depth': range(10,200,80),'criterion':['entropy'], 'max_leaf_nodes' : range( 5,90,2)}\n",
        "rfc_random = RandomizedSearchCV(rfc,r_parameters,n_iter=2,cv=3, verbose=1)\n",
        "rfc_random.fit(X_train, y_train)\n",
        "grid_parmR=rfc_random.best_params_\n",
        "print(grid_parmR)"
      ],
      "execution_count": 32,
      "outputs": [
        {
          "output_type": "stream",
          "name": "stdout",
          "text": [
            "RandomizedSearchCV-Random Forest\n",
            "Fitting 3 folds for each of 2 candidates, totalling 6 fits\n"
          ]
        },
        {
          "output_type": "stream",
          "name": "stderr",
          "text": [
            "[Parallel(n_jobs=1)]: Using backend SequentialBackend with 1 concurrent workers.\n",
            "[Parallel(n_jobs=1)]: Done   6 out of   6 | elapsed:    1.5s finished\n"
          ]
        },
        {
          "output_type": "stream",
          "name": "stdout",
          "text": [
            "{'min_samples_split': 500, 'max_leaf_nodes': 85, 'max_depth': 170, 'criterion': 'entropy'}\n"
          ]
        }
      ]
    },
    {
      "cell_type": "code",
      "metadata": {
        "colab": {
          "base_uri": "https://localhost:8080/"
        },
        "id": "q-ovOKQ58ZTw",
        "outputId": "79707e80-a0d3-4ca2-b13f-187bd1e72c86"
      },
      "source": [
        "#Now do grid search\n",
        "print(\"GridSearchCV-Decision tree\")\n",
        "r_parameters2={'n_estimators': [95, 10, 120, 230],'criterion': ['gini', 'entropy'], 'class_weight':['balanced', 'balanced_subsample']}\n",
        "rfc_grid = GridSearchCV(rfc, r_parameters2, n_jobs=3, verbose=1, error_score=-2)\n",
        "rfc_grid.fit(X_train, y_train)\n",
        "grid_parmR1=rfc_grid.best_params_\n",
        "print(grid_parmR1)"
      ],
      "execution_count": 33,
      "outputs": [
        {
          "output_type": "stream",
          "name": "stdout",
          "text": [
            "GridSearchCV-Decision tree\n",
            "Fitting 5 folds for each of 16 candidates, totalling 80 fits\n"
          ]
        },
        {
          "output_type": "stream",
          "name": "stderr",
          "text": [
            "[Parallel(n_jobs=3)]: Using backend LokyBackend with 3 concurrent workers.\n",
            "[Parallel(n_jobs=3)]: Done  44 tasks      | elapsed:   15.2s\n",
            "[Parallel(n_jobs=3)]: Done  80 out of  80 | elapsed:   31.0s finished\n"
          ]
        },
        {
          "output_type": "stream",
          "name": "stdout",
          "text": [
            "{'class_weight': 'balanced_subsample', 'criterion': 'entropy', 'n_estimators': 95}\n"
          ]
        }
      ]
    },
    {
      "cell_type": "code",
      "metadata": {
        "id": "6pnaoIO28ZWS"
      },
      "source": [
        "#Using the parameters obtained from HyperParameterTuning in the RandomForestClassifier\n",
        "#Construct Random Forest using the best parameters\n",
        "rfc = RandomForestClassifier(**grid_parmR)\n",
        "rfcr = RandomForestClassifier(**grid_parmR1)\n",
        "\n",
        "rfc.fit(X_train,y_train)\n",
        "rfc_predict = rfc.predict(X_test)\n",
        "rfcr.fit(X_train,y_train)\n",
        "rfcr_predict = rfcr.predict(X_test)"
      ],
      "execution_count": 34,
      "outputs": []
    },
    {
      "cell_type": "code",
      "metadata": {
        "colab": {
          "base_uri": "https://localhost:8080/"
        },
        "id": "67jsyb4B8cKS",
        "outputId": "189d9fc7-2cbd-43cd-8aef-41d295e1c799"
      },
      "source": [
        "#Obtain accuracy ,confusion matrix,classification report and AUC values for the result above.\n",
        "print(\"accuracy Score (testset) after hypertuning randomized search for Random Forest:{0:6f}\".format(rfc.score(X_test,y_test)))\n",
        "\n",
        "print(\"accuracy Score (testset) after hypertuning grid search for Random Forest:{0:6f}\".format(rfcr.score(X_test,y_test)))\n",
        "print(\"Confusion Matrix after hypertuning for Random Forest\")\n",
        "print(confusion_matrix(y_test,rfc_predict))\n",
        "print(\"=== Classification Report ===\")\n",
        "print(classification_report(y_test,rfc_predict))"
      ],
      "execution_count": 35,
      "outputs": [
        {
          "output_type": "stream",
          "name": "stdout",
          "text": [
            "accuracy Score (testset) after hypertuning randomized search for Random Forest:0.961449\n",
            "accuracy Score (testset) after hypertuning grid search for Random Forest:0.961139\n",
            "Confusion Matrix after hypertuning for Random Forest\n",
            "[[12420     0]\n",
            " [  498     0]]\n",
            "=== Classification Report ===\n",
            "              precision    recall  f1-score   support\n",
            "\n",
            "          No       0.96      1.00      0.98     12420\n",
            "         Yes       0.00      0.00      0.00       498\n",
            "\n",
            "    accuracy                           0.96     12918\n",
            "   macro avg       0.48      0.50      0.49     12918\n",
            "weighted avg       0.92      0.96      0.94     12918\n",
            "\n"
          ]
        }
      ]
    },
    {
      "cell_type": "code",
      "metadata": {
        "colab": {
          "base_uri": "https://localhost:8080/"
        },
        "id": "_9XmmOpx8dxL",
        "outputId": "7744fc2b-d6e3-4322-e713-ed9a74d3c2b2"
      },
      "source": [
        "#cross validation using random forest model\n",
        "rfc_cv_score = cross_val_score(rfc, X_train, y_train, cv=10, \n",
        "                               scoring=\"balanced_accuracy\", n_jobs=9, \n",
        "                               error_score=-1, verbose=3)\n",
        "print(rfc_cv_score)\n",
        "print('\\n')"
      ],
      "execution_count": 36,
      "outputs": [
        {
          "output_type": "stream",
          "name": "stderr",
          "text": [
            "[Parallel(n_jobs=9)]: Using backend LokyBackend with 9 concurrent workers.\n",
            "[Parallel(n_jobs=9)]: Done   5 out of  10 | elapsed:    5.7s remaining:    5.7s\n"
          ]
        },
        {
          "output_type": "stream",
          "name": "stdout",
          "text": [
            "[0.5 0.5 0.5 0.5 0.5 0.5 0.5 0.5 0.5 0.5]\n",
            "\n",
            "\n"
          ]
        },
        {
          "output_type": "stream",
          "name": "stderr",
          "text": [
            "[Parallel(n_jobs=9)]: Done  10 out of  10 | elapsed:    6.1s finished\n"
          ]
        }
      ]
    }
  ]
}